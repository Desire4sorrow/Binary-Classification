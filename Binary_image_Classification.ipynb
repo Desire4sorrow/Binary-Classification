{
  "nbformat": 4,
  "nbformat_minor": 0,
  "metadata": {
    "colab": {
      "name": "Binary_image_Classification.ipynb",
      "provenance": [],
      "collapsed_sections": [],
      "authorship_tag": "ABX9TyNRWPIgvilQnNL4rEE8zNnR",
      "include_colab_link": true
    },
    "kernelspec": {
      "name": "python3",
      "display_name": "Python 3"
    },
    "accelerator": "GPU"
  },
  "cells": [
    {
      "cell_type": "markdown",
      "metadata": {
        "id": "view-in-github",
        "colab_type": "text"
      },
      "source": [
        "<a href=\"https://colab.research.google.com/github/Desire4sorrow/Binary-Classification/blob/main/Binary_image_Classification.ipynb\" target=\"_parent\"><img src=\"https://colab.research.google.com/assets/colab-badge.svg\" alt=\"Open In Colab\"/></a>"
      ]
    },
    {
      "cell_type": "markdown",
      "metadata": {
        "id": "w5BSaO89uPKs"
      },
      "source": [
        "# **Using a pre-trained neural network in image recognition tasks.**\r\n",
        "### Main tasks:\r\n",
        "\r\n",
        "1) Study the educational and methodological literature on the subject of the project;\r\n",
        "\r\n",
        "2) Learn Transfer Learning technology, get the model you need for training;\r\n",
        "\r\n",
        "3) Write program code to optimize binary classification methods;\r\n",
        "\r\n",
        "4) Test and analyze the resulting model by plotting the dependence of the final accuracy of the neural network, track the relationship between losses and classification accuracy"
      ]
    },
    {
      "cell_type": "code",
      "metadata": {
        "id": "EndmnRqkeWki",
        "colab": {
          "base_uri": "https://localhost:8080/"
        },
        "outputId": "526410e8-3663-46a0-a51f-0ea3bf6a4c0e"
      },
      "source": [
        "from tensorflow import keras\n",
        "from keras.applications import VGG16\n",
        "from keras.models import Sequential\n",
        "from keras.layers.core import Dense, Dropout, Activation, Flatten\n",
        "from keras.layers.convolutional import Conv2D, MaxPooling2D\n",
        "from keras.optimizers import SGD, Adam, RMSprop\n",
        "\n",
        "import matplotlib.pyplot as plt\n",
        "\n",
        "vgg_conv = VGG16(weights='imagenet',\n",
        "                  include_top=False,\n",
        "                  input_shape=(150, 150, 3))\n",
        "vgg_conv.trainable=False\n",
        "model = keras.Sequential()\n",
        "model.add(vgg_conv)\n",
        "model.add(Flatten())\n",
        "model.add(Dense(256))\n",
        "model.add(Activation('relu'))\n",
        "model.add(Dropout(0.25))\n",
        "model.add(Dense(1))  \n",
        "model.add(Activation('sigmoid'))\n",
        "model.compile(loss='binary_crossentropy', optimizer=Adam(lr=1e-5),\n",
        "\tmetrics=['accuracy'])\n",
        "model.summary()"
      ],
      "execution_count": 1,
      "outputs": [
        {
          "output_type": "stream",
          "text": [
            "Downloading data from https://storage.googleapis.com/tensorflow/keras-applications/vgg16/vgg16_weights_tf_dim_ordering_tf_kernels_notop.h5\n",
            "58892288/58889256 [==============================] - 0s 0us/step\n",
            "Model: \"sequential\"\n",
            "_________________________________________________________________\n",
            "Layer (type)                 Output Shape              Param #   \n",
            "=================================================================\n",
            "vgg16 (Functional)           (None, 4, 4, 512)         14714688  \n",
            "_________________________________________________________________\n",
            "flatten (Flatten)            (None, 8192)              0         \n",
            "_________________________________________________________________\n",
            "dense (Dense)                (None, 256)               2097408   \n",
            "_________________________________________________________________\n",
            "activation (Activation)      (None, 256)               0         \n",
            "_________________________________________________________________\n",
            "dropout (Dropout)            (None, 256)               0         \n",
            "_________________________________________________________________\n",
            "dense_1 (Dense)              (None, 1)                 257       \n",
            "_________________________________________________________________\n",
            "activation_1 (Activation)    (None, 1)                 0         \n",
            "=================================================================\n",
            "Total params: 16,812,353\n",
            "Trainable params: 2,097,665\n",
            "Non-trainable params: 14,714,688\n",
            "_________________________________________________________________\n"
          ],
          "name": "stdout"
        }
      ]
    },
    {
      "cell_type": "markdown",
      "metadata": {
        "id": "M95XoVgbl9XD"
      },
      "source": [
        "##Let's start by downloading our example data, a .zip of 2,000 JPG pictures of cats and dogs, and extracting it locally in /tmp.\r\n",
        "##For this subject you need any permissions to make an access to your personal data. "
      ]
    },
    {
      "cell_type": "code",
      "metadata": {
        "colab": {
          "base_uri": "https://localhost:8080/"
        },
        "id": "quJLMhn2DHgO",
        "outputId": "3f573c42-f852-40df-c027-0197bd926f07"
      },
      "source": [
        "from google.colab import drive\n",
        "drive.mount('/data')\n",
        "\n",
        "!wget --no-check-certificate \\\n",
        "    https://storage.googleapis.com/mledu-datasets/cats_and_dogs_filtered.zip \\\n",
        "    -O /tmp/cats_and_dogs_filtered.zip\n",
        "    "
      ],
      "execution_count": 2,
      "outputs": [
        {
          "output_type": "stream",
          "text": [
            "Mounted at /data\n",
            "--2021-01-12 07:39:40--  https://storage.googleapis.com/mledu-datasets/cats_and_dogs_filtered.zip\n",
            "Resolving storage.googleapis.com (storage.googleapis.com)... 172.217.7.240, 172.217.8.16, 172.217.13.240, ...\n",
            "Connecting to storage.googleapis.com (storage.googleapis.com)|172.217.7.240|:443... connected.\n",
            "HTTP request sent, awaiting response... 200 OK\n",
            "Length: 68606236 (65M) [application/zip]\n",
            "Saving to: ‘/tmp/cats_and_dogs_filtered.zip’\n",
            "\n",
            "/tmp/cats_and_dogs_ 100%[===================>]  65.43M   126MB/s    in 0.5s    \n",
            "\n",
            "2021-01-12 07:39:40 (126 MB/s) - ‘/tmp/cats_and_dogs_filtered.zip’ saved [68606236/68606236]\n",
            "\n"
          ],
          "name": "stdout"
        }
      ]
    },
    {
      "cell_type": "markdown",
      "metadata": {
        "id": "X6gj-N2JJodt"
      },
      "source": [
        "##The 2,000 images used in this exercise are excerpted from the \"Dogs vs. Cats\" dataset available on Kaggle, which contains 25,000 images. Here, we use a subset of the full dataset to decrease training time for educational purposes."
      ]
    },
    {
      "cell_type": "markdown",
      "metadata": {
        "id": "dMtvF_dLJw_R"
      },
      "source": [
        "##The contents of the .zip are extracted to the base directory /tmp/cats_and_dogs_filtered, which contains train and validation subdirectories for the training and validation datasets (see the Machine Learning Crash Course for a refresher on training, validation, and test sets), which in turn each contain cats and dogs subdirectories. Let's define each of these directories:"
      ]
    },
    {
      "cell_type": "code",
      "metadata": {
        "id": "SXRi66VxllnT"
      },
      "source": [
        "import os\n",
        "import zipfile\n",
        "\n",
        "local_zip = '/tmp/cats_and_dogs_filtered.zip'\n",
        "zip_ref = zipfile.ZipFile(local_zip, 'r')\n",
        "zip_ref.extractall('/tmp')\n",
        "zip_ref.close()\n",
        "\n",
        "base_dir = '/tmp/cats_and_dogs_filtered'\n",
        "train_dir = os.path.join(base_dir, 'train')\n",
        "validation_dir = os.path.join(base_dir, 'validation')\n",
        "\n",
        "# Directory with our training cat pictures\n",
        "train_cats_dir = os.path.join(train_dir, 'cats')\n",
        "\n",
        "# Directory with our training dog pictures\n",
        "train_dogs_dir = os.path.join(train_dir, 'dogs')\n",
        "\n",
        "# Directory with our validation cat pictures\n",
        "validation_cats_dir = os.path.join(validation_dir, 'cats')\n",
        "\n",
        "# Directory with our validation dog pictures\n",
        "validation_dogs_dir = os.path.join(validation_dir, 'dogs')"
      ],
      "execution_count": 8,
      "outputs": []
    },
    {
      "cell_type": "markdown",
      "metadata": {
        "id": "nrbg1ouxKDqx"
      },
      "source": [
        "##Let's see what the filenames look like in the cats and dogs train directories (file naming conventions are the same in the validation directory):"
      ]
    },
    {
      "cell_type": "code",
      "metadata": {
        "id": "eYwjlT8fltvx",
        "colab": {
          "base_uri": "https://localhost:8080/"
        },
        "outputId": "f31cd5e8-6edb-4cb9-a60c-0f7666b448ef"
      },
      "source": [
        "train_cat_fnames = os.listdir(train_cats_dir)\n",
        "print(train_cat_fnames[:10])\n",
        "\n",
        "train_dog_fnames = os.listdir(train_dogs_dir)\n",
        "train_dog_fnames.sort()\n",
        "print(train_dog_fnames[:10])"
      ],
      "execution_count": 4,
      "outputs": [
        {
          "output_type": "stream",
          "text": [
            "['cat.915.jpg', 'cat.125.jpg', 'cat.293.jpg', 'cat.783.jpg', 'cat.802.jpg', 'cat.289.jpg', 'cat.182.jpg', 'cat.462.jpg', 'cat.754.jpg', 'cat.573.jpg']\n",
            "['dog.0.jpg', 'dog.1.jpg', 'dog.10.jpg', 'dog.100.jpg', 'dog.101.jpg', 'dog.102.jpg', 'dog.103.jpg', 'dog.104.jpg', 'dog.105.jpg', 'dog.106.jpg']\n"
          ],
          "name": "stdout"
        }
      ]
    },
    {
      "cell_type": "markdown",
      "metadata": {
        "id": "8rKJfw4KKhIG"
      },
      "source": [
        "##Let's train on all 2,000 images available, for 20 epochs, and validate on all 1,000 validation images. (This may take a few minutes to run.)"
      ]
    },
    {
      "cell_type": "code",
      "metadata": {
        "id": "lig6PdubmFA_",
        "colab": {
          "base_uri": "https://localhost:8080/"
        },
        "outputId": "78e9ac52-07b8-407a-bc36-82990c41a024"
      },
      "source": [
        "from tensorflow.keras.preprocessing.image import ImageDataGenerator\n",
        "\n",
        "# All images will be rescaled by 1./255\n",
        "train_datagen = ImageDataGenerator(rescale=1./255)\n",
        "test_datagen = ImageDataGenerator(rescale=1./255)\n",
        "\n",
        "# Flow training images in batches of 20 using train_datagen generator\n",
        "train_generator = train_datagen.flow_from_directory(\n",
        "        train_dir,  # This is the source directory for training images\n",
        "        target_size=(150, 150),  # All images will be resized to 150x150\n",
        "        batch_size=20,\n",
        "        # Since we use binary_crossentropy loss, we need binary labels\n",
        "        class_mode='binary')\n",
        "\n",
        "# Flow validation images in batches of 20 using test_datagen generator\n",
        "validation_generator = test_datagen.flow_from_directory(\n",
        "        validation_dir,\n",
        "        target_size=(150, 150),\n",
        "        batch_size=20,\n",
        "        class_mode='binary')"
      ],
      "execution_count": 5,
      "outputs": [
        {
          "output_type": "stream",
          "text": [
            "Found 2000 images belonging to 2 classes.\n",
            "Found 1000 images belonging to 2 classes.\n"
          ],
          "name": "stdout"
        }
      ]
    },
    {
      "cell_type": "code",
      "metadata": {
        "id": "fmW3WS_wmZy1",
        "colab": {
          "base_uri": "https://localhost:8080/"
        },
        "outputId": "2e817262-d2bc-49fd-8285-d147bf4bf65f"
      },
      "source": [
        "history = model.fit_generator(\n",
        "      train_generator,\n",
        "      steps_per_epoch=100,  # 2000 images = batch_size * steps\n",
        "      epochs=50,\n",
        "      validation_data=validation_generator,\n",
        "      validation_steps=10,  # 1000 images = batch_size * steps\n",
        "      verbose=2)"
      ],
      "execution_count": 6,
      "outputs": [
        {
          "output_type": "stream",
          "text": [
            "/usr/local/lib/python3.6/dist-packages/tensorflow/python/keras/engine/training.py:1844: UserWarning: `Model.fit_generator` is deprecated and will be removed in a future version. Please use `Model.fit`, which supports generators.\n",
            "  warnings.warn('`Model.fit_generator` is deprecated and '\n"
          ],
          "name": "stderr"
        },
        {
          "output_type": "stream",
          "text": [
            "Epoch 1/50\n",
            "100/100 - 17s - loss: 0.6216 - accuracy: 0.6565 - val_loss: 0.5188 - val_accuracy: 0.7800\n",
            "Epoch 2/50\n",
            "100/100 - 8s - loss: 0.4710 - accuracy: 0.7975 - val_loss: 0.3776 - val_accuracy: 0.8800\n",
            "Epoch 3/50\n",
            "100/100 - 8s - loss: 0.3968 - accuracy: 0.8385 - val_loss: 0.3658 - val_accuracy: 0.8550\n",
            "Epoch 4/50\n",
            "100/100 - 8s - loss: 0.3519 - accuracy: 0.8620 - val_loss: 0.3410 - val_accuracy: 0.8550\n",
            "Epoch 5/50\n",
            "100/100 - 8s - loss: 0.3166 - accuracy: 0.8785 - val_loss: 0.3858 - val_accuracy: 0.8200\n",
            "Epoch 6/50\n",
            "100/100 - 8s - loss: 0.2994 - accuracy: 0.8880 - val_loss: 0.3096 - val_accuracy: 0.8850\n",
            "Epoch 7/50\n",
            "100/100 - 8s - loss: 0.2749 - accuracy: 0.8940 - val_loss: 0.3074 - val_accuracy: 0.8500\n",
            "Epoch 8/50\n",
            "100/100 - 8s - loss: 0.2551 - accuracy: 0.9120 - val_loss: 0.3278 - val_accuracy: 0.8450\n",
            "Epoch 9/50\n",
            "100/100 - 8s - loss: 0.2417 - accuracy: 0.9105 - val_loss: 0.2583 - val_accuracy: 0.9000\n",
            "Epoch 10/50\n",
            "100/100 - 8s - loss: 0.2333 - accuracy: 0.9195 - val_loss: 0.2144 - val_accuracy: 0.9200\n",
            "Epoch 11/50\n",
            "100/100 - 8s - loss: 0.2206 - accuracy: 0.9215 - val_loss: 0.2755 - val_accuracy: 0.8800\n",
            "Epoch 12/50\n",
            "100/100 - 8s - loss: 0.2077 - accuracy: 0.9305 - val_loss: 0.2599 - val_accuracy: 0.8900\n",
            "Epoch 13/50\n",
            "100/100 - 8s - loss: 0.1976 - accuracy: 0.9345 - val_loss: 0.2514 - val_accuracy: 0.9050\n",
            "Epoch 14/50\n",
            "100/100 - 8s - loss: 0.1889 - accuracy: 0.9445 - val_loss: 0.1828 - val_accuracy: 0.9250\n",
            "Epoch 15/50\n",
            "100/100 - 8s - loss: 0.1868 - accuracy: 0.9380 - val_loss: 0.2917 - val_accuracy: 0.8700\n",
            "Epoch 16/50\n",
            "100/100 - 8s - loss: 0.1759 - accuracy: 0.9445 - val_loss: 0.2455 - val_accuracy: 0.9050\n",
            "Epoch 17/50\n",
            "100/100 - 8s - loss: 0.1749 - accuracy: 0.9415 - val_loss: 0.2235 - val_accuracy: 0.8950\n",
            "Epoch 18/50\n",
            "100/100 - 8s - loss: 0.1608 - accuracy: 0.9500 - val_loss: 0.2495 - val_accuracy: 0.8850\n",
            "Epoch 19/50\n",
            "100/100 - 8s - loss: 0.1544 - accuracy: 0.9520 - val_loss: 0.2710 - val_accuracy: 0.8650\n",
            "Epoch 20/50\n",
            "100/100 - 8s - loss: 0.1499 - accuracy: 0.9540 - val_loss: 0.2791 - val_accuracy: 0.8800\n",
            "Epoch 21/50\n",
            "100/100 - 8s - loss: 0.1477 - accuracy: 0.9540 - val_loss: 0.2903 - val_accuracy: 0.8650\n",
            "Epoch 22/50\n",
            "100/100 - 8s - loss: 0.1459 - accuracy: 0.9550 - val_loss: 0.2728 - val_accuracy: 0.8650\n",
            "Epoch 23/50\n",
            "100/100 - 8s - loss: 0.1393 - accuracy: 0.9560 - val_loss: 0.2711 - val_accuracy: 0.8650\n",
            "Epoch 24/50\n",
            "100/100 - 8s - loss: 0.1352 - accuracy: 0.9585 - val_loss: 0.3007 - val_accuracy: 0.8750\n",
            "Epoch 25/50\n",
            "100/100 - 8s - loss: 0.1285 - accuracy: 0.9595 - val_loss: 0.2391 - val_accuracy: 0.8950\n",
            "Epoch 26/50\n",
            "100/100 - 8s - loss: 0.1242 - accuracy: 0.9645 - val_loss: 0.2700 - val_accuracy: 0.8550\n",
            "Epoch 27/50\n",
            "100/100 - 8s - loss: 0.1204 - accuracy: 0.9685 - val_loss: 0.3037 - val_accuracy: 0.8450\n",
            "Epoch 28/50\n",
            "100/100 - 8s - loss: 0.1152 - accuracy: 0.9700 - val_loss: 0.2844 - val_accuracy: 0.8650\n",
            "Epoch 29/50\n",
            "100/100 - 8s - loss: 0.1098 - accuracy: 0.9720 - val_loss: 0.2509 - val_accuracy: 0.8800\n",
            "Epoch 30/50\n",
            "100/100 - 8s - loss: 0.1060 - accuracy: 0.9710 - val_loss: 0.3106 - val_accuracy: 0.8700\n",
            "Epoch 31/50\n",
            "100/100 - 8s - loss: 0.1003 - accuracy: 0.9745 - val_loss: 0.2694 - val_accuracy: 0.8650\n",
            "Epoch 32/50\n",
            "100/100 - 8s - loss: 0.1031 - accuracy: 0.9715 - val_loss: 0.2463 - val_accuracy: 0.8950\n",
            "Epoch 33/50\n",
            "100/100 - 8s - loss: 0.0961 - accuracy: 0.9760 - val_loss: 0.2591 - val_accuracy: 0.8800\n",
            "Epoch 34/50\n",
            "100/100 - 8s - loss: 0.0936 - accuracy: 0.9795 - val_loss: 0.2742 - val_accuracy: 0.8750\n",
            "Epoch 35/50\n",
            "100/100 - 8s - loss: 0.0903 - accuracy: 0.9785 - val_loss: 0.2817 - val_accuracy: 0.8600\n",
            "Epoch 36/50\n",
            "100/100 - 8s - loss: 0.0870 - accuracy: 0.9810 - val_loss: 0.2144 - val_accuracy: 0.8950\n",
            "Epoch 37/50\n",
            "100/100 - 8s - loss: 0.0836 - accuracy: 0.9835 - val_loss: 0.2257 - val_accuracy: 0.8950\n",
            "Epoch 38/50\n",
            "100/100 - 8s - loss: 0.0853 - accuracy: 0.9795 - val_loss: 0.2437 - val_accuracy: 0.8800\n",
            "Epoch 39/50\n",
            "100/100 - 8s - loss: 0.0809 - accuracy: 0.9845 - val_loss: 0.3380 - val_accuracy: 0.8400\n",
            "Epoch 40/50\n",
            "100/100 - 8s - loss: 0.0784 - accuracy: 0.9845 - val_loss: 0.2564 - val_accuracy: 0.8750\n",
            "Epoch 41/50\n",
            "100/100 - 8s - loss: 0.0758 - accuracy: 0.9850 - val_loss: 0.2372 - val_accuracy: 0.8900\n",
            "Epoch 42/50\n",
            "100/100 - 8s - loss: 0.0732 - accuracy: 0.9855 - val_loss: 0.3190 - val_accuracy: 0.8750\n",
            "Epoch 43/50\n",
            "100/100 - 8s - loss: 0.0692 - accuracy: 0.9865 - val_loss: 0.2485 - val_accuracy: 0.8950\n",
            "Epoch 44/50\n",
            "100/100 - 8s - loss: 0.0682 - accuracy: 0.9885 - val_loss: 0.2680 - val_accuracy: 0.8850\n",
            "Epoch 45/50\n",
            "100/100 - 8s - loss: 0.0666 - accuracy: 0.9900 - val_loss: 0.1896 - val_accuracy: 0.8850\n",
            "Epoch 46/50\n",
            "100/100 - 8s - loss: 0.0639 - accuracy: 0.9875 - val_loss: 0.2361 - val_accuracy: 0.9000\n",
            "Epoch 47/50\n",
            "100/100 - 8s - loss: 0.0617 - accuracy: 0.9910 - val_loss: 0.2646 - val_accuracy: 0.8850\n",
            "Epoch 48/50\n",
            "100/100 - 8s - loss: 0.0585 - accuracy: 0.9920 - val_loss: 0.1785 - val_accuracy: 0.9100\n",
            "Epoch 49/50\n",
            "100/100 - 8s - loss: 0.0596 - accuracy: 0.9920 - val_loss: 0.2383 - val_accuracy: 0.8750\n",
            "Epoch 50/50\n",
            "100/100 - 8s - loss: 0.0556 - accuracy: 0.9930 - val_loss: 0.2520 - val_accuracy: 0.9000\n"
          ],
          "name": "stdout"
        }
      ]
    },
    {
      "cell_type": "markdown",
      "metadata": {
        "id": "2NN4F1ujL2vQ"
      },
      "source": [
        "##Let's summarise our results with using build-in libs of matplotlib.pyplot \r\n",
        "\r\n",
        "##Imagination of accuracy shows how it can binary classificate image.\r\n",
        "\r\n",
        "##Imagination of loss shows how different types of accuraces trends to zero.\r\n"
      ]
    },
    {
      "cell_type": "code",
      "metadata": {
        "id": "MTb9boL2pN-B",
        "colab": {
          "base_uri": "https://localhost:8080/",
          "height": 573
        },
        "outputId": "a3d8b037-a030-4fd6-f502-9e85d534592d"
      },
      "source": [
        "import matplotlib.pyplot as plt\n",
        "\n",
        "#Making needed accuracy as graphical imagination\n",
        "\n",
        "plt.plot(history.history['val_accuracy'])\n",
        "plt.title('Total accuracy')\n",
        "plt.ylabel('accuracy')\n",
        "plt.xlabel('epoch')\n",
        "plt.legend(['value'], loc='upper left')\n",
        "plt.show()\n",
        "\n",
        "#Making needed loss as graphical imagination\n",
        "\n",
        "plt.plot(history.history['val_loss'])\n",
        "plt.title('Total loss of Model')\n",
        "plt.ylabel('loss')\n",
        "plt.xlabel('epoch')\n",
        "plt.legend(['value'], loc='upper left')\n",
        "plt.show()"
      ],
      "execution_count": 7,
      "outputs": [
        {
          "output_type": "display_data",
          "data": {
            "image/png": "[encoded data removed]",
            "text/plain": [
              "<Figure size 432x288 with 1 Axes>"
            ]
          },
          "metadata": {
            "tags": [],
            "needs_background": "light"
          }
        },
        {
          "output_type": "display_data",
          "data": {
            "image/png": "[encoded data removed]",
            "text/plain": [
              "<Figure size 432x288 with 1 Axes>"
            ]
          },
          "metadata": {
            "tags": [],
            "needs_background": "light"
          }
        }
      ]
    }
  ]
}